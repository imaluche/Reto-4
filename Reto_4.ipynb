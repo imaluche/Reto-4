{
 "cells": [
  {
   "cell_type": "code",
   "execution_count": 1,
   "metadata": {},
   "outputs": [
    {
     "name": "stdout",
     "output_type": "stream",
     "text": [
      "su codigo ASCII no corresponde a una vocal minuscula\n"
     ]
    }
   ],
   "source": [
    "x:int=int(input(\"(numero chistoso)x:\"))\n",
    "conjunto_vocales= (97,101,105,11,117)\n",
    "if x in conjunto_vocales:\n",
    "   print(\"su codigo ASCII corresponde a una vocal minuscula\")\n",
    "else:\n",
    "    print(\"su codigo ASCII no corresponde a una vocal minuscula\")"
   ]
  },
  {
   "cell_type": "code",
   "execution_count": 2,
   "metadata": {},
   "outputs": [
    {
     "name": "stdout",
     "output_type": "stream",
     "text": [
      "su ASCII es impar\n",
      "suimera letra es A obviamente porque solo acepta 1 letra xd\n"
     ]
    }
   ],
   "source": [
    "cadena:str=str(input(\"cadena a evaluar:\"))\n",
    "caracter= cadena[0]\n",
    "pariedad_cadena= ord(cadena)\n",
    "if len(cadena)>1:\n",
    "    print(\"cadena muy larga\")\n",
    "else:\n",
    "    if pariedad_cadena/2==pariedad_cadena//2:\n",
    "        print(\"su ASCII es par\")\n",
    "    else:\n",
    "        print(\"su ASCII es impar\")\n",
    "\n",
    "print(\"su primera letra es \"+ str(caracter)+\" obviamente porque solo acepta 1 letra xd\")"
   ]
  },
  {
   "cell_type": "code",
   "execution_count": 1,
   "metadata": {},
   "outputs": [
    {
     "name": "stdout",
     "output_type": "stream",
     "text": [
      "su caracter es un digito\n",
      "se limita a solo una letra para obtener solo un valor evaluable\n"
     ]
    }
   ],
   "source": [
    "cadena:str=str(input(\"cadena a evaluar:\"))\n",
    "caracter= cadena[0]\n",
    "ASCII_cadena= ord(cadena)\n",
    "if len(cadena)>1:\n",
    "    print(\"cadena muy larga\")\n",
    "else:\n",
    "    if ASCII_cadena<=57 and ASCII_cadena>=48:\n",
    "        print(\"su caracter es un digito\")\n",
    "    else:\n",
    "        print(\"su caracter no es un digito\")\n",
    "\n",
    "print(\"se limita a solo una letra para obtener solo un valor evaluable\")"
   ]
  },
  {
   "cell_type": "code",
   "execution_count": 2,
   "metadata": {},
   "outputs": [
    {
     "name": "stdout",
     "output_type": "stream",
     "text": [
      "x es negativo\n"
     ]
    }
   ],
   "source": [
    "x:float=float(input(\"numero real a evaluar:\"))\n",
    "if x>0:\n",
    "    print(\"x es positivo\")\n",
    "if x<0:\n",
    "    print(\"x es negativo\")\n",
    "if x==0:\n",
    "    print(\"x es neutro para la suma\")"
   ]
  },
  {
   "cell_type": "code",
   "execution_count": 3,
   "metadata": {},
   "outputs": [
    {
     "name": "stdout",
     "output_type": "stream",
     "text": [
      "el punto no esta dentro de la circunferencia\n"
     ]
    }
   ],
   "source": [
    "centrox:float=float(input(\"valor centro de la circunferencia en x:\"))\n",
    "centroy:float=float(input(\"valor centro de la circunferencia en y:\"))\n",
    "radio: float=float(input(\"radio de la circunferencia:\"))\n",
    "x:float=float(input(\"valor en x del punto:\"))\n",
    "y:float=float(input(\"valor en y del punto:\"))\n",
    "primera_mitad= (x-centrox)**2\n",
    "segunda_mitad= (y-centroy)**2\n",
    "tercera_mitad=radio**2\n",
    "circunferencia=primera_mitad+segunda_mitad<=tercera_mitad\n",
    "if circunferencia :\n",
    "    print(\"el punto esta dentro de la circunferencia\")\n",
    "else:\n",
    "    print(\"el punto no esta dentro de la circunferencia\")"
   ]
  },
  {
   "cell_type": "code",
   "execution_count": null,
   "metadata": {},
   "outputs": [],
   "source": [
    "a:float=float(input(\"valor de la longitud 1:\"))\n",
    "b:float=float(input(\"valor de la longitud 2:\"))\n",
    "c:float=float(input(\"valor de la longitud 3:\"))\n",
    "condicion_a:bool=False\n",
    "condicion_b:bool=False\n",
    "condicion_c:bool=False\n",
    "if a+b>c:\n",
    "    condicion_a=True\n",
    "if a+c>b:\n",
    "   condicion_b=True\n",
    "if b+c>a:\n",
    "    condicion_c=True\n",
    "            \n",
    "        \n",
    "if ((condicion_a)== True) and (condicion_b==True) and (condicion_c== True):\n",
    "     print(\"se puede hacer un triangulo\")\n",
    "else:\n",
    "    print(\"no se puede hacer un triangulo\")"
   ]
  }
 ],
 "metadata": {
  "kernelspec": {
   "display_name": "Python 3",
   "language": "python",
   "name": "python3"
  },
  "language_info": {
   "codemirror_mode": {
    "name": "ipython",
    "version": 3
   },
   "file_extension": ".py",
   "mimetype": "text/x-python",
   "name": "python",
   "nbconvert_exporter": "python",
   "pygments_lexer": "ipython3",
   "version": "3.12.2"
  }
 },
 "nbformat": 4,
 "nbformat_minor": 2
}
